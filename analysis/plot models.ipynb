{
 "cells": [
  {
   "cell_type": "code",
   "execution_count": 1,
   "metadata": {},
   "outputs": [
    {
     "name": "stdout",
     "output_type": "stream",
     "text": [
      "C:\\Users\\Jonathan\\AERO8194\\project\n"
     ]
    }
   ],
   "source": [
    "cd .."
   ]
  },
  {
   "cell_type": "code",
   "execution_count": 2,
   "metadata": {},
   "outputs": [
    {
     "name": "stderr",
     "output_type": "stream",
     "text": [
      "WARNING: Logging before flag parsing goes to stderr.\n",
      "W0405 11:05:10.148404 27464 hdf5_format.py:177] No training configuration found in save file: the model was *not* compiled. Compile it manually.\n",
      "W0405 11:05:10.407434 27464 hdf5_format.py:177] No training configuration found in save file: the model was *not* compiled. Compile it manually.\n",
      "W0405 11:05:10.694264 27464 training_utils.py:1444] Output reconstruction_loss_layer missing from loss dictionary. We assume this was done on purpose. The fit and evaluate APIs will not be expecting any data to be passed to reconstruction_loss_layer.\n",
      "W0405 11:05:11.124087 27464 hdf5_format.py:177] No training configuration found in save file: the model was *not* compiled. Compile it manually.\n",
      "W0405 11:05:11.227810 27464 hdf5_format.py:177] No training configuration found in save file: the model was *not* compiled. Compile it manually.\n",
      "W0405 11:05:11.374432 27464 training_utils.py:1444] Output reconstruction_loss_layer missing from loss dictionary. We assume this was done on purpose. The fit and evaluate APIs will not be expecting any data to be passed to reconstruction_loss_layer.\n"
     ]
    }
   ],
   "source": [
    "import os\n",
    "from tensorflow.keras.models import load_model\n",
    "from tensorflow.keras.utils import plot_model\n",
    "from vae import KLDivergenceLayer,ReconstructionLossLayer,SamplingLayer\n",
    "\n",
    "custom_objects = {'ReconstructionLossLayer':ReconstructionLossLayer,\n",
    "                  'SamplingLayer':SamplingLayer,\n",
    "                  'KLDivergenceLayer':KLDivergenceLayer}\n",
    "model_dir = 'models'\n",
    "save_dir = os.path.join(model_dir,'pictures')\n",
    "if not os.path.isdir(save_dir):\n",
    "    os.makedirs(save_dir)\n",
    "model_files = [os.path.join(model_dir,i) for i in os.listdir(model_dir) if i.endswith('.h5')]\n",
    "for model_file in model_files:\n",
    "    model = load_model(model_file,custom_objects=custom_objects)\n",
    "    model_name = model_file.split(os.path.sep)[-1].split('.')[0]\n",
    "    save_path = os.path.join(save_dir,model_name + '.png')\n",
    "    plot_model(model,to_file=save_path)"
   ]
  },
  {
   "cell_type": "code",
   "execution_count": null,
   "metadata": {},
   "outputs": [],
   "source": []
  }
 ],
 "metadata": {
  "kernelspec": {
   "display_name": "Python 3",
   "language": "python",
   "name": "python3"
  },
  "language_info": {
   "codemirror_mode": {
    "name": "ipython",
    "version": 3
   },
   "file_extension": ".py",
   "mimetype": "text/x-python",
   "name": "python",
   "nbconvert_exporter": "python",
   "pygments_lexer": "ipython3",
   "version": "3.7.4"
  }
 },
 "nbformat": 4,
 "nbformat_minor": 2
}
